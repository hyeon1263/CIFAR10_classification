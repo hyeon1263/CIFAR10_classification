{
 "cells": [
  {
   "cell_type": "code",
   "execution_count": 1,
   "metadata": {},
   "outputs": [
    {
     "name": "stdout",
     "output_type": "stream",
     "text": [
      "cuda:0\n"
     ]
    }
   ],
   "source": [
    "import torch\n",
    "import torchvision\n",
    "import timm\n",
    "import random\n",
    "import numpy as np\n",
    "import os\n",
    "import albumentations as A\n",
    "import ttach as tta\n",
    "from albumentations.pytorch import ToTensorV2\n",
    "\n",
    "class Cifar10SearchDataset(torchvision.datasets.CIFAR10):\n",
    "    def __init__(self, root=\"./data/cifar10\", train=True, download=True, transform=None):\n",
    "        super().__init__(root=root, train=train, download=download, transform=transform)\n",
    "    def __getitem__(self, index):\n",
    "        image, label = self.data[index], self.targets[index]\n",
    "\n",
    "        if self.transform is not None:\n",
    "            transformed = self.transform(image=image)\n",
    "            image = transformed[\"image\"]\n",
    "\n",
    "        return image, label\n",
    "    \n",
    "def seed_all(seed):\n",
    "    np.random.seed(seed)\n",
    "    torch.manual_seed(seed)\n",
    "    torch.backends.cudnn.deterministic = True\n",
    "    torch.backends.cudnn.benchmark = False\n",
    "    random.seed(seed)\n",
    "    os.environ['PYTHONHASHSEED'] = str(seed)\n",
    "    torch.cuda.manual_seed(seed)\n",
    "    torch.cuda.manual_seed_all(seed)\n",
    "    \n",
    "device = torch.device(\"cuda:0\" if torch.cuda.is_available() else \"cpu\")\n",
    "print(device)"
   ]
  },
  {
   "cell_type": "code",
   "execution_count": 2,
   "metadata": {},
   "outputs": [
    {
     "name": "stdout",
     "output_type": "stream",
     "text": [
      "18\n"
     ]
    }
   ],
   "source": [
    "seed_all(42)\n",
    "\n",
    "transform_test = A.Compose([\n",
    "        A.Resize(224,224),\n",
    "        ToTensorV2()\n",
    "])\n",
    "\n",
    "testset = Cifar10SearchDataset(root='./data', train=False, download=False, transform=transform_test)\n",
    "testloader = torch.utils.data.DataLoader(testset, batch_size=100, shuffle=False, num_workers=16)\n",
    "\n",
    "# 사용한 모델\n",
    "model_names = ['resnet18']\n",
    "\n",
    "models = []    # 모델 리스트\n",
    "model_path = './models/'\n",
    "threshold = 9600\n",
    "\n",
    "# 저장된 모델 가중치 불러오기\n",
    "for model_name in model_names:\n",
    "    for model_parameter in sorted(os.listdir(os.path.join(model_path, model_name))):\n",
    "        # 특정 test accuracy 이상인 model들만 불러오기\n",
    "        if int(model_parameter[-8:-4]) < threshold:\n",
    "            continue\n",
    "        \n",
    "        model = timm.create_model(model_name, num_classes=10)\n",
    "        model.load_state_dict(torch.load(os.path.join(model_path, model_name, model_parameter)))\n",
    "        model.eval()\n",
    "        model = model.to(device)\n",
    "        models.append((model, int(model_parameter[-8:-4])))\n",
    "print(len(models))"
   ]
  },
  {
   "cell_type": "code",
   "execution_count": null,
   "metadata": {},
   "outputs": [],
   "source": [
    "# tta (test time augmentation) 모듈 사용\n",
    "tta_transforms = tta.Compose(\n",
    "    [\n",
    "        tta.HorizontalFlip(),\n",
    "        # tta.Add([1,2]),\n",
    "        # tta.Multiply([1, 1.05, 1.1])\n",
    "    ]\n",
    ")\n",
    "\n",
    "correct = 0\n",
    "total = 0\n",
    "seed_all(42)\n",
    "with torch.no_grad():\n",
    "    for data in testloader:\n",
    "        images, labels = data\n",
    "        images, labels = images.to(device).float(), labels.to(device)\n",
    "        outputs = torch.zeros(100, 10).to(device)\n",
    "        for model in models:\n",
    "            tta_model = tta.ClassificationTTAWrapper(model[0], tta_transforms)\n",
    "            model_output = tta_model(images)\n",
    "            outputs += model_output    # 출력 모두 더하기\n",
    "        _, predicted = torch.max(outputs.data, 1)   # 최종 예측값 뽑아내기\n",
    "        total += labels.size(0)\n",
    "        correct += (predicted == labels).sum().item()\n",
    "\n",
    "print(f'Accuracy of the ensemble on the 10000 test images: {(100 * correct / total)}')"
   ]
  }
 ],
 "metadata": {
  "kernelspec": {
   "display_name": "ta",
   "language": "python",
   "name": "python3"
  },
  "language_info": {
   "codemirror_mode": {
    "name": "ipython",
    "version": 3
   },
   "file_extension": ".py",
   "mimetype": "text/x-python",
   "name": "python",
   "nbconvert_exporter": "python",
   "pygments_lexer": "ipython3",
   "version": "3.9.16"
  },
  "orig_nbformat": 4
 },
 "nbformat": 4,
 "nbformat_minor": 2
}
